{
 "cells": [
  {
   "cell_type": "markdown",
   "id": "d90c41a9-a041-4c4f-a3d5-8f2224ae1dc2",
   "metadata": {},
   "source": [
    ">## Importing Packages"
   ]
  },
  {
   "cell_type": "code",
   "execution_count": 2,
   "id": "d664b1f6-eb79-4e1e-b489-e722497c4a69",
   "metadata": {},
   "outputs": [],
   "source": [
    "import pandas as pd\n",
    "import numpy as np\n",
    "import seaborn as sns \n",
    "import matplotlib.pyplot as plt\n",
    "import warnings\n",
    "warnings.filterwarnings('ignore')"
   ]
  },
  {
   "cell_type": "markdown",
   "id": "9f9ca754-448d-48aa-a27b-0e63e8b36a95",
   "metadata": {},
   "source": [
    "### Step2: Load DataSet"
   ]
  },
  {
   "cell_type": "code",
   "execution_count": 3,
   "id": "faa46373-bbee-4256-8723-49b8d7b11970",
   "metadata": {},
   "outputs": [
    {
     "data": {
      "text/html": [
       "<div>\n",
       "<style scoped>\n",
       "    .dataframe tbody tr th:only-of-type {\n",
       "        vertical-align: middle;\n",
       "    }\n",
       "\n",
       "    .dataframe tbody tr th {\n",
       "        vertical-align: top;\n",
       "    }\n",
       "\n",
       "    .dataframe thead th {\n",
       "        text-align: right;\n",
       "    }\n",
       "</style>\n",
       "<table border=\"1\" class=\"dataframe\">\n",
       "  <thead>\n",
       "    <tr style=\"text-align: right;\">\n",
       "      <th></th>\n",
       "      <th>age</th>\n",
       "      <th>gender</th>\n",
       "      <th>occupation</th>\n",
       "      <th>education_level</th>\n",
       "      <th>marital_status</th>\n",
       "      <th>income</th>\n",
       "      <th>credit_score</th>\n",
       "      <th>loan_status</th>\n",
       "    </tr>\n",
       "  </thead>\n",
       "  <tbody>\n",
       "    <tr>\n",
       "      <th>0</th>\n",
       "      <td>32</td>\n",
       "      <td>Male</td>\n",
       "      <td>Engineer</td>\n",
       "      <td>Bachelor's</td>\n",
       "      <td>Married</td>\n",
       "      <td>85000</td>\n",
       "      <td>720</td>\n",
       "      <td>Approved</td>\n",
       "    </tr>\n",
       "    <tr>\n",
       "      <th>1</th>\n",
       "      <td>45</td>\n",
       "      <td>Female</td>\n",
       "      <td>Teacher</td>\n",
       "      <td>Master's</td>\n",
       "      <td>Single</td>\n",
       "      <td>62000</td>\n",
       "      <td>680</td>\n",
       "      <td>Approved</td>\n",
       "    </tr>\n",
       "    <tr>\n",
       "      <th>2</th>\n",
       "      <td>28</td>\n",
       "      <td>Male</td>\n",
       "      <td>Student</td>\n",
       "      <td>High School</td>\n",
       "      <td>Single</td>\n",
       "      <td>25000</td>\n",
       "      <td>590</td>\n",
       "      <td>Denied</td>\n",
       "    </tr>\n",
       "  </tbody>\n",
       "</table>\n",
       "</div>"
      ],
      "text/plain": [
       "   age  gender occupation education_level marital_status  income  \\\n",
       "0   32    Male   Engineer      Bachelor's        Married   85000   \n",
       "1   45  Female    Teacher        Master's         Single   62000   \n",
       "2   28    Male    Student     High School         Single   25000   \n",
       "\n",
       "   credit_score loan_status  \n",
       "0           720    Approved  \n",
       "1           680    Approved  \n",
       "2           590      Denied  "
      ]
     },
     "execution_count": 3,
     "metadata": {},
     "output_type": "execute_result"
    }
   ],
   "source": [
    "df=pd.read_csv(\"loan.csv\")\n",
    "df.head(3)"
   ]
  },
  {
   "cell_type": "markdown",
   "id": "6dbd19b8-789f-4508-a8f4-d77e10c8e7db",
   "metadata": {},
   "source": [
    "### Step3: Data Processing \n",
    "Perform data preprocessing tasks such as handling missing values , encoding categorical values , and feature scaling "
   ]
  },
  {
   "cell_type": "code",
   "execution_count": 4,
   "id": "f4ef58ed-b756-4a29-ba09-74c63a853fb0",
   "metadata": {},
   "outputs": [
    {
     "data": {
      "text/plain": [
       "(61, 8)"
      ]
     },
     "execution_count": 4,
     "metadata": {},
     "output_type": "execute_result"
    }
   ],
   "source": [
    "df.shape"
   ]
  },
  {
   "cell_type": "code",
   "execution_count": 5,
   "id": "6ad891d0-9830-4728-87e5-75296a6b28e6",
   "metadata": {},
   "outputs": [
    {
     "data": {
      "text/plain": [
       "loan_status\n",
       "Approved    45\n",
       "Denied      16\n",
       "Name: count, dtype: int64"
      ]
     },
     "execution_count": 5,
     "metadata": {},
     "output_type": "execute_result"
    }
   ],
   "source": [
    "df[\"loan_status\"].value_counts()"
   ]
  },
  {
   "cell_type": "code",
   "execution_count": 6,
   "id": "939a6ac5-9ad9-4629-8416-097f5fe524c8",
   "metadata": {},
   "outputs": [
    {
     "data": {
      "text/plain": [
       "age                0\n",
       "gender             0\n",
       "occupation         0\n",
       "education_level    0\n",
       "marital_status     0\n",
       "income             0\n",
       "credit_score       0\n",
       "loan_status        0\n",
       "dtype: int64"
      ]
     },
     "execution_count": 6,
     "metadata": {},
     "output_type": "execute_result"
    }
   ],
   "source": [
    "df.isnull().sum()"
   ]
  },
  {
   "cell_type": "code",
   "execution_count": 7,
   "id": "d070aabf-987c-4790-9429-818b77daae94",
   "metadata": {},
   "outputs": [
    {
     "data": {
      "text/plain": [
       "age                 int64\n",
       "gender             object\n",
       "occupation         object\n",
       "education_level    object\n",
       "marital_status     object\n",
       "income              int64\n",
       "credit_score        int64\n",
       "loan_status        object\n",
       "dtype: object"
      ]
     },
     "execution_count": 7,
     "metadata": {},
     "output_type": "execute_result"
    }
   ],
   "source": [
    "df.dtypes"
   ]
  },
  {
   "cell_type": "code",
   "execution_count": 8,
   "id": "75ff2fbe-1064-44b2-8cdb-6b4e64f57d14",
   "metadata": {},
   "outputs": [
    {
     "name": "stdout",
     "output_type": "stream",
     "text": [
      "<class 'pandas.core.frame.DataFrame'>\n",
      "RangeIndex: 61 entries, 0 to 60\n",
      "Data columns (total 8 columns):\n",
      " #   Column           Non-Null Count  Dtype \n",
      "---  ------           --------------  ----- \n",
      " 0   age              61 non-null     int64 \n",
      " 1   gender           61 non-null     object\n",
      " 2   occupation       61 non-null     object\n",
      " 3   education_level  61 non-null     object\n",
      " 4   marital_status   61 non-null     object\n",
      " 5   income           61 non-null     int64 \n",
      " 6   credit_score     61 non-null     int64 \n",
      " 7   loan_status      61 non-null     object\n",
      "dtypes: int64(3), object(5)\n",
      "memory usage: 3.9+ KB\n"
     ]
    }
   ],
   "source": [
    "df.info()"
   ]
  },
  {
   "cell_type": "code",
   "execution_count": 9,
   "id": "841bebf0-f421-4ac9-99e5-6468f18df91e",
   "metadata": {},
   "outputs": [
    {
     "data": {
      "text/html": [
       "<div>\n",
       "<style scoped>\n",
       "    .dataframe tbody tr th:only-of-type {\n",
       "        vertical-align: middle;\n",
       "    }\n",
       "\n",
       "    .dataframe tbody tr th {\n",
       "        vertical-align: top;\n",
       "    }\n",
       "\n",
       "    .dataframe thead th {\n",
       "        text-align: right;\n",
       "    }\n",
       "</style>\n",
       "<table border=\"1\" class=\"dataframe\">\n",
       "  <thead>\n",
       "    <tr style=\"text-align: right;\">\n",
       "      <th></th>\n",
       "      <th>age</th>\n",
       "      <th>income</th>\n",
       "      <th>credit_score</th>\n",
       "    </tr>\n",
       "  </thead>\n",
       "  <tbody>\n",
       "    <tr>\n",
       "      <th>count</th>\n",
       "      <td>61.000000</td>\n",
       "      <td>61.000000</td>\n",
       "      <td>61.000000</td>\n",
       "    </tr>\n",
       "    <tr>\n",
       "      <th>mean</th>\n",
       "      <td>37.081967</td>\n",
       "      <td>78983.606557</td>\n",
       "      <td>709.836066</td>\n",
       "    </tr>\n",
       "    <tr>\n",
       "      <th>std</th>\n",
       "      <td>8.424755</td>\n",
       "      <td>33772.025802</td>\n",
       "      <td>72.674888</td>\n",
       "    </tr>\n",
       "    <tr>\n",
       "      <th>min</th>\n",
       "      <td>24.000000</td>\n",
       "      <td>25000.000000</td>\n",
       "      <td>560.000000</td>\n",
       "    </tr>\n",
       "    <tr>\n",
       "      <th>25%</th>\n",
       "      <td>30.000000</td>\n",
       "      <td>52000.000000</td>\n",
       "      <td>650.000000</td>\n",
       "    </tr>\n",
       "    <tr>\n",
       "      <th>50%</th>\n",
       "      <td>36.000000</td>\n",
       "      <td>78000.000000</td>\n",
       "      <td>720.000000</td>\n",
       "    </tr>\n",
       "    <tr>\n",
       "      <th>75%</th>\n",
       "      <td>43.000000</td>\n",
       "      <td>98000.000000</td>\n",
       "      <td>770.000000</td>\n",
       "    </tr>\n",
       "    <tr>\n",
       "      <th>max</th>\n",
       "      <td>55.000000</td>\n",
       "      <td>180000.000000</td>\n",
       "      <td>830.000000</td>\n",
       "    </tr>\n",
       "  </tbody>\n",
       "</table>\n",
       "</div>"
      ],
      "text/plain": [
       "             age         income  credit_score\n",
       "count  61.000000      61.000000     61.000000\n",
       "mean   37.081967   78983.606557    709.836066\n",
       "std     8.424755   33772.025802     72.674888\n",
       "min    24.000000   25000.000000    560.000000\n",
       "25%    30.000000   52000.000000    650.000000\n",
       "50%    36.000000   78000.000000    720.000000\n",
       "75%    43.000000   98000.000000    770.000000\n",
       "max    55.000000  180000.000000    830.000000"
      ]
     },
     "execution_count": 9,
     "metadata": {},
     "output_type": "execute_result"
    }
   ],
   "source": [
    "df.describe()"
   ]
  },
  {
   "cell_type": "code",
   "execution_count": 10,
   "id": "a1b8215d-8ea4-41b3-bf8c-5a1d530f77c6",
   "metadata": {},
   "outputs": [
    {
     "data": {
      "text/plain": [
       "np.int64(0)"
      ]
     },
     "execution_count": 10,
     "metadata": {},
     "output_type": "execute_result"
    }
   ],
   "source": [
    "df.duplicated().sum()"
   ]
  },
  {
   "cell_type": "markdown",
   "id": "610034f4-9e1f-4c25-918d-98b898d485c4",
   "metadata": {},
   "source": [
    "> No Duplicate Value In The Dataset "
   ]
  },
  {
   "cell_type": "markdown",
   "id": "76958bb8-8c93-4248-8852-e89a41501e83",
   "metadata": {},
   "source": [
    "## Perform the some basic visulaization on the dataset\n",
    "\"\" TO understand the pattern and trends in the dataset\"\""
   ]
  },
  {
   "cell_type": "code",
   "execution_count": 11,
   "id": "3b690d23-8596-477a-be28-7df7a3f71805",
   "metadata": {},
   "outputs": [
    {
     "data": {
      "image/png": "[encoded data removed]",
      "text/plain": [
       "<Figure size 640x480 with 1 Axes>"
      ]
     },
     "metadata": {},
     "output_type": "display_data"
    },
    {
     "name": "stdout",
     "output_type": "stream",
     "text": [
      "Description: This scatter plot shows the relationship between income and credit score for the individuals in the dataset.\n"
     ]
    }
   ],
   "source": [
    "# Scatter plot of income vs credit score\n",
    "sns.scatterplot(x=\"income\", y=\"credit_score\", data=df)\n",
    "plt.title('Scatter plot of Income vs Credit Score')\n",
    "plt.xlabel('Income')\n",
    "plt.ylabel('Credit Score')\n",
    "plt.show()\n",
    "print(\"Description: This scatter plot shows the relationship between income and credit score for the individuals in the dataset.\")"
   ]
  },
  {
   "cell_type": "code",
   "execution_count": 12,
   "id": "0f19345f-ed95-4ca7-8c4b-f01148dc0f41",
   "metadata": {},
   "outputs": [
    {
     "data": {
      "text/plain": [
       "<Figure size 1000x600 with 0 Axes>"
      ]
     },
     "metadata": {},
     "output_type": "display_data"
    },
    {
     "data": {
      "image/png": "[encoded data removed]",
      "text/plain": [
       "<Figure size 616.875x500 with 1 Axes>"
      ]
     },
     "metadata": {},
     "output_type": "display_data"
    },
    {
     "name": "stdout",
     "output_type": "stream",
     "text": [
      "Description: This scatter plot shows the relationship between income and credit score, with different colors representing the loan status (Approved or Denied).\n"
     ]
    }
   ],
   "source": [
    "# Scatter plot of income vs credit score with loan status hue\n",
    "plt.figure(figsize=(10, 6))\n",
    "sns.lmplot(x=\"income\", y=\"credit_score\", data=df, hue=\"loan_status\")\n",
    "plt.title('Scatter plot of Income vs Credit Score with Loan Status')\n",
    "plt.xlabel('Income')\n",
    "plt.ylabel('Credit Score')\n",
    "plt.show()\n",
    "print(\"Description: This scatter plot shows the relationship between income and credit score, with different colors representing the loan status (Approved or Denied).\")"
   ]
  },
  {
   "cell_type": "code",
   "execution_count": 13,
   "id": "1fbaf182-75be-4b5a-9186-6010aa02c610",
   "metadata": {},
   "outputs": [
    {
     "data": {
      "image/png": "[encoded data removed]",
      "text/plain": [
       "<Figure size 500x400 with 1 Axes>"
      ]
     },
     "metadata": {},
     "output_type": "display_data"
    },
    {
     "name": "stdout",
     "output_type": "stream",
     "text": [
      "Description: This histogram shows the distribution of gender in the dataset, with different colors representing the loan status (Approved or Denied).\n"
     ]
    }
   ],
   "source": [
    "# Histogram of gender with loan status hue\n",
    "plt.figure(figsize=(5, 4))\n",
    "sns.histplot(x=\"gender\", data=df, hue=\"loan_status\", multiple=\"stack\")\n",
    "plt.title('Histogram of Gender with Loan Status')\n",
    "plt.xlabel('Gender')\n",
    "plt.ylabel('Count')\n",
    "plt.show()\n",
    "print(\"Description: This histogram shows the distribution of gender in the dataset, with different colors representing the loan status (Approved or Denied).\")\n"
   ]
  },
  {
   "cell_type": "code",
   "execution_count": 14,
   "id": "81415c1c-3895-47d4-8752-c02942a890f2",
   "metadata": {},
   "outputs": [
    {
     "data": {
      "image/png": "[encoded data removed]",
      "text/plain": [
       "<Figure size 600x400 with 1 Axes>"
      ]
     },
     "metadata": {},
     "output_type": "display_data"
    },
    {
     "name": "stdout",
     "output_type": "stream",
     "text": [
      "Description: This boxplot shows the distribution of salary by gender in the dataset. , to see the outliers\n"
     ]
    }
   ],
   "source": [
    "# Create the boxplot\n",
    "plt.figure(figsize=(6, 4))\n",
    "sns.boxplot(x='gender', y='income', data=df)\n",
    "plt.title('Boxplot of Salary by Gender')\n",
    "plt.xlabel('Gender')\n",
    "plt.ylabel('income')\n",
    "plt.show()\n",
    "print(\"Description: This boxplot shows the distribution of salary by gender in the dataset. , to see the outliers\")"
   ]
  },
  {
   "cell_type": "code",
   "execution_count": 15,
   "id": "2ce6eac9-f2cc-4d49-a7d1-bd98f47c2c2e",
   "metadata": {},
   "outputs": [
    {
     "data": {
      "image/png": "[encoded data removed]",
      "text/plain": [
       "<Figure size 640x480 with 1 Axes>"
      ]
     },
     "metadata": {},
     "output_type": "display_data"
    }
   ],
   "source": [
    "# Distribution of income\n",
    "sns.histplot(df['income'], bins=40,kde=True)\n",
    "plt.title(\"Income Distribution\")\n",
    "plt.show()"
   ]
  },
  {
   "cell_type": "markdown",
   "id": "b120d2df-3511-41db-9339-c417509df185",
   "metadata": {},
   "source": [
    "### Types of columns in the data set "
   ]
  },
  {
   "cell_type": "code",
   "execution_count": 16,
   "id": "49856bbf-ad9a-49ea-8df3-71a1beb7a3bd",
   "metadata": {},
   "outputs": [
    {
     "name": "stdout",
     "output_type": "stream",
     "text": [
      "Categorical columns:  Index(['gender', 'occupation', 'education_level', 'marital_status',\n",
      "       'loan_status'],\n",
      "      dtype='object')\n",
      "Numerical columns:  Index(['age', 'income', 'credit_score'], dtype='object')\n"
     ]
    }
   ],
   "source": [
    "cat = df.select_dtypes(include=['object'])               # This will show how many categorical columns we have \n",
    "num = df.select_dtypes(include=['int64', 'float64'])     # This will show how many numerical columns we have \n",
    "print(\"Categorical columns: \", cat.columns)\n",
    "print(\"Numerical columns: \", num.columns)"
   ]
  },
  {
   "cell_type": "markdown",
   "id": "68d9cb77-ee1f-4764-a2c5-27cf1f9d73e7",
   "metadata": {},
   "source": [
    "### Encode binary variables into label encoder(e.g 0/1 columns)"
   ]
  },
  {
   "cell_type": "code",
   "execution_count": 17,
   "id": "e2b563bc-d542-4aa4-9437-6310e245de3e",
   "metadata": {},
   "outputs": [
    {
     "data": {
      "text/html": [
       "<div>\n",
       "<style scoped>\n",
       "    .dataframe tbody tr th:only-of-type {\n",
       "        vertical-align: middle;\n",
       "    }\n",
       "\n",
       "    .dataframe tbody tr th {\n",
       "        vertical-align: top;\n",
       "    }\n",
       "\n",
       "    .dataframe thead th {\n",
       "        text-align: right;\n",
       "    }\n",
       "</style>\n",
       "<table border=\"1\" class=\"dataframe\">\n",
       "  <thead>\n",
       "    <tr style=\"text-align: right;\">\n",
       "      <th></th>\n",
       "      <th>age</th>\n",
       "      <th>gender</th>\n",
       "      <th>occupation</th>\n",
       "      <th>education_level</th>\n",
       "      <th>marital_status</th>\n",
       "      <th>income</th>\n",
       "      <th>credit_score</th>\n",
       "      <th>loan_status</th>\n",
       "    </tr>\n",
       "  </thead>\n",
       "  <tbody>\n",
       "    <tr>\n",
       "      <th>0</th>\n",
       "      <td>32</td>\n",
       "      <td>1</td>\n",
       "      <td>12</td>\n",
       "      <td>1</td>\n",
       "      <td>0</td>\n",
       "      <td>85000</td>\n",
       "      <td>720</td>\n",
       "      <td>0</td>\n",
       "    </tr>\n",
       "    <tr>\n",
       "      <th>1</th>\n",
       "      <td>45</td>\n",
       "      <td>0</td>\n",
       "      <td>35</td>\n",
       "      <td>4</td>\n",
       "      <td>1</td>\n",
       "      <td>62000</td>\n",
       "      <td>680</td>\n",
       "      <td>0</td>\n",
       "    </tr>\n",
       "    <tr>\n",
       "      <th>2</th>\n",
       "      <td>28</td>\n",
       "      <td>1</td>\n",
       "      <td>33</td>\n",
       "      <td>3</td>\n",
       "      <td>1</td>\n",
       "      <td>25000</td>\n",
       "      <td>590</td>\n",
       "      <td>1</td>\n",
       "    </tr>\n",
       "  </tbody>\n",
       "</table>\n",
       "</div>"
      ],
      "text/plain": [
       "   age  gender  occupation  education_level  marital_status  income  \\\n",
       "0   32       1          12                1               0   85000   \n",
       "1   45       0          35                4               1   62000   \n",
       "2   28       1          33                3               1   25000   \n",
       "\n",
       "   credit_score  loan_status  \n",
       "0           720            0  \n",
       "1           680            0  \n",
       "2           590            1  "
      ]
     },
     "execution_count": 17,
     "metadata": {},
     "output_type": "execute_result"
    }
   ],
   "source": [
    "from sklearn.preprocessing import LabelEncoder\n",
    "label_encoder = LabelEncoder()\n",
    "for col in cat:  # Here we applying for loop in above cat variables to convert categorical variable to numerical  \n",
    "    df[col] = label_encoder.fit_transform(df[col])\n",
    "df.head(3)\n",
    "   "
   ]
  },
  {
   "cell_type": "markdown",
   "id": "99f23c2b-080f-4456-a773-82b986804c8e",
   "metadata": {},
   "source": [
    "#### here we draw the heatmap for checking the correlation between each column"
   ]
  },
  {
   "cell_type": "code",
   "execution_count": 18,
   "id": "0efbc09e-1677-4209-b226-a4ab8e6f6558",
   "metadata": {},
   "outputs": [
    {
     "data": {
      "text/plain": [
       "<Axes: >"
      ]
     },
     "execution_count": 18,
     "metadata": {},
     "output_type": "execute_result"
    },
    {
     "data": {
      "image/png": "[encoded data removed]",
      "text/plain": [
       "<Figure size 640x480 with 2 Axes>"
      ]
     },
     "metadata": {},
     "output_type": "display_data"
    }
   ],
   "source": [
    "corr = df.corr()\n",
    "sns.heatmap(corr,annot=True,cmap=\"viridis\")  "
   ]
  },
  {
   "cell_type": "markdown",
   "id": "8281e3bd-3a76-4c9b-8b40-393a107f8e13",
   "metadata": {},
   "source": [
    "#####            strong positive correlation\n",
    "      1.Heatmap shows income and credit_score which was ---> (+0.94)\n",
    "      2.Heatmap shows Age and credit_score which was ---> (+0.81)\n",
    " #####           strong negative correlation\n",
    "     1.Heatmap shows loan_status and credit_score which was --->  (-0.82)\n",
    "     2.Heatmap shows Age and Martial_status which was --->  (-0.75)\n",
    "     3.Heatmap shows Income and Martial_status which was --->  (-0.75)\n",
    "     4.Heatmap shows Credit_score and Martial_status which was --->  (-0.85)\n",
    "#####             Weak Correlation\n",
    "      1. Gender with most variables\n",
    "      2. Education Level with most variables "
   ]
  },
  {
   "cell_type": "markdown",
   "id": "78bf14a7-e42f-4570-9a64-692da8b6e169",
   "metadata": {},
   "source": [
    "### Keeping important columns "
   ]
  },
  {
   "cell_type": "code",
   "execution_count": 19,
   "id": "23959414-8292-4a52-ab59-03cfdf406d69",
   "metadata": {},
   "outputs": [
    {
     "data": {
      "text/html": [
       "<div>\n",
       "<style scoped>\n",
       "    .dataframe tbody tr th:only-of-type {\n",
       "        vertical-align: middle;\n",
       "    }\n",
       "\n",
       "    .dataframe tbody tr th {\n",
       "        vertical-align: top;\n",
       "    }\n",
       "\n",
       "    .dataframe thead th {\n",
       "        text-align: right;\n",
       "    }\n",
       "</style>\n",
       "<table border=\"1\" class=\"dataframe\">\n",
       "  <thead>\n",
       "    <tr style=\"text-align: right;\">\n",
       "      <th></th>\n",
       "      <th>age</th>\n",
       "      <th>gender</th>\n",
       "      <th>income</th>\n",
       "      <th>credit_score</th>\n",
       "      <th>loan_status</th>\n",
       "    </tr>\n",
       "  </thead>\n",
       "  <tbody>\n",
       "    <tr>\n",
       "      <th>0</th>\n",
       "      <td>32</td>\n",
       "      <td>1</td>\n",
       "      <td>85000</td>\n",
       "      <td>720</td>\n",
       "      <td>0</td>\n",
       "    </tr>\n",
       "    <tr>\n",
       "      <th>1</th>\n",
       "      <td>45</td>\n",
       "      <td>0</td>\n",
       "      <td>62000</td>\n",
       "      <td>680</td>\n",
       "      <td>0</td>\n",
       "    </tr>\n",
       "    <tr>\n",
       "      <th>2</th>\n",
       "      <td>28</td>\n",
       "      <td>1</td>\n",
       "      <td>25000</td>\n",
       "      <td>590</td>\n",
       "      <td>1</td>\n",
       "    </tr>\n",
       "  </tbody>\n",
       "</table>\n",
       "</div>"
      ],
      "text/plain": [
       "   age  gender  income  credit_score  loan_status\n",
       "0   32       1   85000           720            0\n",
       "1   45       0   62000           680            0\n",
       "2   28       1   25000           590            1"
      ]
     },
     "execution_count": 19,
     "metadata": {},
     "output_type": "execute_result"
    }
   ],
   "source": [
    "## There is a no use of occupation , education_level, martial_status columns in the dataset so we can either do drop those columns in the dataset.\n",
    "columns = [\"age\",\"gender\",\"income\",\"credit_score\",\"loan_status\"]\n",
    "df=df[columns]\n",
    "df.head(3)"
   ]
  },
  {
   "cell_type": "markdown",
   "id": "cb59b925-998c-4da5-b867-12c08c65578a",
   "metadata": {},
   "source": [
    "### Split the dataset into training and testing sets "
   ]
  },
  {
   "cell_type": "code",
   "execution_count": 20,
   "id": "955aac37-b208-43dd-9d1f-0a6a3b989bd5",
   "metadata": {},
   "outputs": [],
   "source": [
    "X = df.drop(\"loan_status\",axis=1) ## Here we select our loan_status column as a output column and remaining \n",
    "y = df[\"loan_status\"]           ##  --column as input columns so here we drop from x and assign to y \n"
   ]
  },
  {
   "cell_type": "code",
   "execution_count": 21,
   "id": "4ea2c342-71a1-48fa-a263-ee4e2d6b1570",
   "metadata": {},
   "outputs": [],
   "source": [
    "## Split the data into trainig and testing and import library of sklearn\n",
    "\n",
    "from sklearn.model_selection import train_test_split\n",
    "X_train ,X_test ,y_train ,y_test = train_test_split(X,y,test_size=0.25,random_state=42)"
   ]
  },
  {
   "cell_type": "code",
   "execution_count": 22,
   "id": "5517d609-f080-4f18-b03f-487980bbf893",
   "metadata": {},
   "outputs": [
    {
     "name": "stdout",
     "output_type": "stream",
     "text": [
      "<class 'pandas.core.frame.DataFrame'>\n",
      "Index: 45 entries, 8 to 38\n",
      "Data columns (total 4 columns):\n",
      " #   Column        Non-Null Count  Dtype\n",
      "---  ------        --------------  -----\n",
      " 0   age           45 non-null     int64\n",
      " 1   gender        45 non-null     int64\n",
      " 2   income        45 non-null     int64\n",
      " 3   credit_score  45 non-null     int64\n",
      "dtypes: int64(4)\n",
      "memory usage: 1.8 KB\n"
     ]
    }
   ],
   "source": [
    "X_train.info()"
   ]
  },
  {
   "cell_type": "markdown",
   "id": "5f8381eb-b917-4caa-87e6-9a967eb99f69",
   "metadata": {},
   "source": [
    "### Standardize  Scaling features for logistic regression "
   ]
  },
  {
   "cell_type": "code",
   "execution_count": 23,
   "id": "fe75e286-c58a-4b3f-b05f-4b3de2ce704f",
   "metadata": {},
   "outputs": [],
   "source": [
    "from sklearn.preprocessing import StandardScaler\n",
    "scaler = StandardScaler()\n",
    "X_train = scaler.fit_transform(X_train)\n",
    "X_test = scaler.transform(X_test)"
   ]
  },
  {
   "cell_type": "code",
   "execution_count": 24,
   "id": "099642ee",
   "metadata": {},
   "outputs": [],
   "source": [
    "import pickle\n",
    "pickle.dump(scaler,open(\"loan_scale.pkl\",\"wb\"))"
   ]
  },
  {
   "cell_type": "code",
   "execution_count": 25,
   "id": "4ebdc9c1-d3d0-45f2-ad18-09c9c68cc688",
   "metadata": {},
   "outputs": [
    {
     "data": {
      "text/plain": [
       "array([[-0.62696233,  0.89442719,  0.17874411,  0.14686353],\n",
       "       [-1.63010205, -1.11803399, -0.90347021, -0.97804859],\n",
       "       [-0.75235479,  0.89442719, -0.4062366 , -0.41559253],\n",
       "       [ 2.13167192, -1.11803399,  0.17874411,  0.70931959],\n",
       "       [ 0.25078493, -1.11803399, -0.02599914,  0.28747754],\n",
       "       [ 1.63010205, -1.11803399,  1.20246035,  1.41238966],\n",
       "       [-1.00313973,  0.89442719, -1.42995285, -1.9623467 ],\n",
       "       [-1.25392466, -1.11803399, -1.28370767, -1.54050465],\n",
       "       [-1.37931712,  0.89442719, -1.07896442, -1.39989064],\n",
       "       [ 0.12539247,  0.89442719,  0.090997  ,  0.28747754],\n",
       "       [ 1.25392466, -1.11803399,  1.78744106,  1.41238966],\n",
       "       [-0.87774726, -1.11803399, -0.69872696, -0.83743458],\n",
       "       [-0.3761774 ,  0.89442719,  0.26649121,  0.42809156],\n",
       "       [ 1.75549452, -1.11803399,  0.76372482,  0.99054762],\n",
       "       [ 0.87774726, -1.11803399,  0.17874411,  0.42809156],\n",
       "       [ 0.50156986, -1.11803399,  1.34870553,  1.27177565]])"
      ]
     },
     "execution_count": 25,
     "metadata": {},
     "output_type": "execute_result"
    }
   ],
   "source": [
    "X_test"
   ]
  },
  {
   "cell_type": "code",
   "execution_count": 26,
   "id": "ccea260a-1f9a-4c6b-b590-a81f3d4259cd",
   "metadata": {},
   "outputs": [
    {
     "data": {
      "text/html": [
       "<div>\n",
       "<style scoped>\n",
       "    .dataframe tbody tr th:only-of-type {\n",
       "        vertical-align: middle;\n",
       "    }\n",
       "\n",
       "    .dataframe tbody tr th {\n",
       "        vertical-align: top;\n",
       "    }\n",
       "\n",
       "    .dataframe thead th {\n",
       "        text-align: right;\n",
       "    }\n",
       "</style>\n",
       "<table border=\"1\" class=\"dataframe\">\n",
       "  <thead>\n",
       "    <tr style=\"text-align: right;\">\n",
       "      <th></th>\n",
       "      <th>age</th>\n",
       "      <th>gender</th>\n",
       "      <th>income</th>\n",
       "      <th>credit_score</th>\n",
       "      <th>loan_status</th>\n",
       "    </tr>\n",
       "  </thead>\n",
       "  <tbody>\n",
       "    <tr>\n",
       "      <th>0</th>\n",
       "      <td>32</td>\n",
       "      <td>1</td>\n",
       "      <td>85000</td>\n",
       "      <td>720</td>\n",
       "      <td>0</td>\n",
       "    </tr>\n",
       "    <tr>\n",
       "      <th>1</th>\n",
       "      <td>45</td>\n",
       "      <td>0</td>\n",
       "      <td>62000</td>\n",
       "      <td>680</td>\n",
       "      <td>0</td>\n",
       "    </tr>\n",
       "  </tbody>\n",
       "</table>\n",
       "</div>"
      ],
      "text/plain": [
       "   age  gender  income  credit_score  loan_status\n",
       "0   32       1   85000           720            0\n",
       "1   45       0   62000           680            0"
      ]
     },
     "execution_count": 26,
     "metadata": {},
     "output_type": "execute_result"
    }
   ],
   "source": [
    "df.head(2)"
   ]
  },
  {
   "cell_type": "markdown",
   "id": "c8d014ec-5cc6-45ad-9260-db9258f46573",
   "metadata": {},
   "source": [
    "### Model Development "
   ]
  },
  {
   "cell_type": "markdown",
   "id": "580c4c4b-f7c5-49aa-b09d-653bed30ae9f",
   "metadata": {},
   "source": [
    ">### Here we apply all models to prdict."
   ]
  },
  {
   "cell_type": "code",
   "execution_count": 27,
   "id": "dee0eea6-f12f-41c7-a49e-0f82531c9fe2",
   "metadata": {},
   "outputs": [
    {
     "name": "stdout",
     "output_type": "stream",
     "text": [
      "Model: Logistic Regression\n",
      "Accuracy: 0.9375\n",
      "R2 Score: 0.6666666666666667\n",
      "Mean Absolute Error: 0.0625\n",
      "Classification Report:\n",
      "               precision    recall  f1-score   support\n",
      "\n",
      "           0       1.00      0.92      0.96        12\n",
      "           1       0.80      1.00      0.89         4\n",
      "\n",
      "    accuracy                           0.94        16\n",
      "   macro avg       0.90      0.96      0.92        16\n",
      "weighted avg       0.95      0.94      0.94        16\n",
      "\n",
      "Confusion Matrix:\n",
      " [[11  1]\n",
      " [ 0  4]]\n",
      "----------------------------------------------------------------------------------------------------\n",
      "Model: Random Forest\n",
      "Accuracy: 0.9375\n",
      "R2 Score: 0.6666666666666667\n",
      "Mean Absolute Error: 0.0625\n",
      "Classification Report:\n",
      "               precision    recall  f1-score   support\n",
      "\n",
      "           0       1.00      0.92      0.96        12\n",
      "           1       0.80      1.00      0.89         4\n",
      "\n",
      "    accuracy                           0.94        16\n",
      "   macro avg       0.90      0.96      0.92        16\n",
      "weighted avg       0.95      0.94      0.94        16\n",
      "\n",
      "Confusion Matrix:\n",
      " [[11  1]\n",
      " [ 0  4]]\n",
      "----------------------------------------------------------------------------------------------------\n",
      "Model: SVC\n",
      "Accuracy: 0.9375\n",
      "R2 Score: 0.6666666666666667\n",
      "Mean Absolute Error: 0.0625\n",
      "Classification Report:\n",
      "               precision    recall  f1-score   support\n",
      "\n",
      "           0       1.00      0.92      0.96        12\n",
      "           1       0.80      1.00      0.89         4\n",
      "\n",
      "    accuracy                           0.94        16\n",
      "   macro avg       0.90      0.96      0.92        16\n",
      "weighted avg       0.95      0.94      0.94        16\n",
      "\n",
      "Confusion Matrix:\n",
      " [[11  1]\n",
      " [ 0  4]]\n",
      "----------------------------------------------------------------------------------------------------\n",
      "Model: K-Nearest Neighbors\n",
      "Accuracy: 0.9375\n",
      "R2 Score: 0.6666666666666667\n",
      "Mean Absolute Error: 0.0625\n",
      "Classification Report:\n",
      "               precision    recall  f1-score   support\n",
      "\n",
      "           0       1.00      0.92      0.96        12\n",
      "           1       0.80      1.00      0.89         4\n",
      "\n",
      "    accuracy                           0.94        16\n",
      "   macro avg       0.90      0.96      0.92        16\n",
      "weighted avg       0.95      0.94      0.94        16\n",
      "\n",
      "Confusion Matrix:\n",
      " [[11  1]\n",
      " [ 0  4]]\n",
      "----------------------------------------------------------------------------------------------------\n",
      "Model: Gaussian Naive Bayes\n",
      "Accuracy: 0.9375\n",
      "R2 Score: 0.6666666666666667\n",
      "Mean Absolute Error: 0.0625\n",
      "Classification Report:\n",
      "               precision    recall  f1-score   support\n",
      "\n",
      "           0       1.00      0.92      0.96        12\n",
      "           1       0.80      1.00      0.89         4\n",
      "\n",
      "    accuracy                           0.94        16\n",
      "   macro avg       0.90      0.96      0.92        16\n",
      "weighted avg       0.95      0.94      0.94        16\n",
      "\n",
      "Confusion Matrix:\n",
      " [[11  1]\n",
      " [ 0  4]]\n",
      "----------------------------------------------------------------------------------------------------\n",
      "Model: Decision Tree\n",
      "Accuracy: 1.0\n",
      "R2 Score: 1.0\n",
      "Mean Absolute Error: 0.0\n",
      "Classification Report:\n",
      "               precision    recall  f1-score   support\n",
      "\n",
      "           0       1.00      1.00      1.00        12\n",
      "           1       1.00      1.00      1.00         4\n",
      "\n",
      "    accuracy                           1.00        16\n",
      "   macro avg       1.00      1.00      1.00        16\n",
      "weighted avg       1.00      1.00      1.00        16\n",
      "\n",
      "Confusion Matrix:\n",
      " [[12  0]\n",
      " [ 0  4]]\n",
      "----------------------------------------------------------------------------------------------------\n"
     ]
    }
   ],
   "source": [
    "from sklearn.linear_model import LogisticRegression\n",
    "from sklearn.ensemble import RandomForestClassifier\n",
    "from sklearn.svm import SVC\n",
    "from sklearn.neighbors import KNeighborsClassifier\n",
    "from sklearn.naive_bayes import GaussianNB\n",
    "from sklearn.tree import DecisionTreeClassifier\n",
    "from sklearn.metrics import accuracy_score, r2_score, mean_absolute_error, classification_report, confusion_matrix\n",
    "import pandas as pd\n",
    "\n",
    "classifiers = {\n",
    "    'Logistic Regression': LogisticRegression(),\n",
    "    'Random Forest': RandomForestClassifier(),\n",
    "    'SVC': SVC(),\n",
    "    'K-Nearest Neighbors': KNeighborsClassifier(),\n",
    "    'Gaussian Naive Bayes': GaussianNB(),\n",
    "    'Decision Tree': DecisionTreeClassifier()\n",
    "}\n",
    "\n",
    "for name, model in classifiers.items():\n",
    "    model.fit(X_train,y_train)\n",
    "    predictions = model.predict(X_test)\n",
    "    \n",
    "    print(f\"Model: {name}\")\n",
    "    print(f\"Accuracy: {accuracy_score(y_test, predictions )}\")\n",
    "    print(f\"R2 Score: {r2_score(y_test, predictions)}\")\n",
    "    print(f\"Mean Absolute Error: {mean_absolute_error(y_test, predictions)}\")\n",
    "    print(\"Classification Report:\\n\", classification_report(y_test, predictions))\n",
    "    print(\"Confusion Matrix:\\n\", confusion_matrix(y_test, predictions))\n",
    "    print(\"--\" * 50)"
   ]
  },
  {
   "cell_type": "markdown",
   "id": "6e27c10d-2229-4ab8-ad94-acd7b792136c",
   "metadata": {},
   "source": [
    ">### Get the Symmary Of all Models "
   ]
  },
  {
   "cell_type": "code",
   "execution_count": 28,
   "id": "e8672352-e1d5-4d48-a76c-25d797738533",
   "metadata": {},
   "outputs": [
    {
     "data": {
      "text/html": [
       "<div>\n",
       "<style scoped>\n",
       "    .dataframe tbody tr th:only-of-type {\n",
       "        vertical-align: middle;\n",
       "    }\n",
       "\n",
       "    .dataframe tbody tr th {\n",
       "        vertical-align: top;\n",
       "    }\n",
       "\n",
       "    .dataframe thead th {\n",
       "        text-align: right;\n",
       "    }\n",
       "</style>\n",
       "<table border=\"1\" class=\"dataframe\">\n",
       "  <thead>\n",
       "    <tr style=\"text-align: right;\">\n",
       "      <th></th>\n",
       "      <th>Model</th>\n",
       "      <th>Accuracy</th>\n",
       "      <th>F1-score</th>\n",
       "      <th>Precision</th>\n",
       "      <th>Recall</th>\n",
       "    </tr>\n",
       "  </thead>\n",
       "  <tbody>\n",
       "    <tr>\n",
       "      <th>0</th>\n",
       "      <td>Logistic Regression</td>\n",
       "      <td>0.9375</td>\n",
       "      <td>0.888889</td>\n",
       "      <td>0.8</td>\n",
       "      <td>1.0</td>\n",
       "    </tr>\n",
       "    <tr>\n",
       "      <th>1</th>\n",
       "      <td>Random Forest</td>\n",
       "      <td>0.9375</td>\n",
       "      <td>0.888889</td>\n",
       "      <td>0.8</td>\n",
       "      <td>1.0</td>\n",
       "    </tr>\n",
       "    <tr>\n",
       "      <th>2</th>\n",
       "      <td>SVC</td>\n",
       "      <td>0.9375</td>\n",
       "      <td>0.888889</td>\n",
       "      <td>0.8</td>\n",
       "      <td>1.0</td>\n",
       "    </tr>\n",
       "    <tr>\n",
       "      <th>3</th>\n",
       "      <td>K-Nearest Neighbors</td>\n",
       "      <td>0.9375</td>\n",
       "      <td>0.888889</td>\n",
       "      <td>0.8</td>\n",
       "      <td>1.0</td>\n",
       "    </tr>\n",
       "    <tr>\n",
       "      <th>4</th>\n",
       "      <td>Gaussian Naive Bayes</td>\n",
       "      <td>0.9375</td>\n",
       "      <td>0.888889</td>\n",
       "      <td>0.8</td>\n",
       "      <td>1.0</td>\n",
       "    </tr>\n",
       "    <tr>\n",
       "      <th>5</th>\n",
       "      <td>Decision Tree</td>\n",
       "      <td>0.9375</td>\n",
       "      <td>0.888889</td>\n",
       "      <td>0.8</td>\n",
       "      <td>1.0</td>\n",
       "    </tr>\n",
       "  </tbody>\n",
       "</table>\n",
       "</div>"
      ],
      "text/plain": [
       "                  Model  Accuracy  F1-score  Precision  Recall\n",
       "0   Logistic Regression    0.9375  0.888889        0.8     1.0\n",
       "1         Random Forest    0.9375  0.888889        0.8     1.0\n",
       "2                   SVC    0.9375  0.888889        0.8     1.0\n",
       "3   K-Nearest Neighbors    0.9375  0.888889        0.8     1.0\n",
       "4  Gaussian Naive Bayes    0.9375  0.888889        0.8     1.0\n",
       "5         Decision Tree    0.9375  0.888889        0.8     1.0"
      ]
     },
     "execution_count": 28,
     "metadata": {},
     "output_type": "execute_result"
    }
   ],
   "source": [
    "from sklearn.metrics import accuracy_score , f1_score , precision_score , recall_score\n",
    "# Initialize models\n",
    "models = {\n",
    "    'Logistic Regression': LogisticRegression(),\n",
    "    'Random Forest': RandomForestClassifier(),\n",
    "    'SVC': SVC(),\n",
    "    'K-Nearest Neighbors': KNeighborsClassifier(),\n",
    "    'Gaussian Naive Bayes': GaussianNB(),\n",
    "    'Decision Tree': DecisionTreeClassifier()\n",
    "}\n",
    "\n",
    "# Train and evaluate models\n",
    "results = []\n",
    "for name, model in models.items():\n",
    "    model.fit(X_train, y_train)\n",
    "    y_pred = model.predict(X_test)\n",
    "    accuracy = accuracy_score(y_test, y_pred)\n",
    "    f1 = f1_score(y_test, y_pred)\n",
    "    precision = precision_score(y_test, y_pred)\n",
    "    recall = recall_score(y_test, y_pred)\n",
    "    results.append([name , accuracy, f1, precision, recall])\n",
    "\n",
    "# Create DataFrame from results\n",
    "results_df = pd.DataFrame(results, columns=['Model', 'Accuracy', 'F1-score', 'Precision', 'Recall'])\n",
    "\n",
    "# Print the DataFrame\n",
    "results_df"
   ]
  },
  {
   "cell_type": "markdown",
   "id": "772990b3-f666-48b9-b165-9e6029bf663e",
   "metadata": {},
   "source": [
    "> **Her we use the overall best model for predictions which is logistic regression model**"
   ]
  },
  {
   "cell_type": "code",
   "execution_count": 29,
   "id": "c4dc3c2d-9c47-4ca6-85ce-d7efce1f58be",
   "metadata": {},
   "outputs": [],
   "source": [
    "from sklearn.linear_model import LogisticRegression \n",
    "lg = LogisticRegression()\n",
    "lg.fit(X_train,y_train)\n",
    "lg_predict =lg.predict(X_test)"
   ]
  },
  {
   "cell_type": "markdown",
   "id": "490816ed-ff87-4512-a24d-e46b5488ec3c",
   "metadata": {},
   "source": [
    "## Predicitive System For Checking How The Model Is Working "
   ]
  },
  {
   "cell_type": "code",
   "execution_count": 30,
   "id": "2d4f774f-7f4d-465f-9c07-d56ff1eac5c0",
   "metadata": {},
   "outputs": [],
   "source": [
    "def predictive(age,gender,income,credit_score):          # First we define the function for columns in which we are working \n",
    "   \n",
    "    ## Encode the categorical columns \n",
    "    Encoded_gender  = label_encoder.fit_transform([gender])[0]  # Then we encode the columns which are categorical I have only one categorical column \n",
    "         \n",
    "    ## Prepare Features Array \n",
    "    features = np.array([[age,Encoded_gender,income,credit_score]])  # Then we convert are columns to 2d array \n",
    "    \n",
    "    ## Scalling\n",
    "    scaled_features = scaler.transform(features)            # Then we do transform features columns \n",
    "\n",
    "    ## Predict by model\n",
    "    result = lg.predict(scaled_features)                  # Atlast we finally predict the model by logisicRegression \n",
    "    return result[0]"
   ]
  },
  {
   "cell_type": "code",
   "execution_count": 31,
   "id": "5c14a4fe-3a36-4c9b-82b8-a39c7b0acfda",
   "metadata": {},
   "outputs": [
    {
     "name": "stdout",
     "output_type": "stream",
     "text": [
      "[ 1  2  3  4  5 67  6]\n",
      "<class 'numpy.ndarray'>\n",
      "1\n",
      "[[1 2 3]\n",
      " [5 6 7]]\n",
      "<class 'numpy.ndarray'>\n",
      "2\n",
      "[[[ 1  2  3]\n",
      "  [ 5  6  7]\n",
      "  [34 55 66]]]\n",
      "<class 'numpy.ndarray'>\n",
      "3\n"
     ]
    }
   ],
   "source": [
    "y=np.array([1,2,3,4,5,67,6])\n",
    "print(y)\n",
    "print(type(y))\n",
    "print(y.ndim)\n",
    "\n",
    "y=np.array([[1,2,3],[5,6,7]])\n",
    "print(y)\n",
    "print(type(y))\n",
    "print(y.ndim)\n",
    "\n",
    "y=np.array([[[1,2,3],[5,6,7],[34,55,66]]])\n",
    "print(y)\n",
    "print(type(y))\n",
    "print(y.ndim)"
   ]
  },
  {
   "cell_type": "code",
   "execution_count": 32,
   "id": "d3705705-2232-44e9-b6e8-a3f433fc9dae",
   "metadata": {},
   "outputs": [
    {
     "data": {
      "text/html": [
       "<div>\n",
       "<style scoped>\n",
       "    .dataframe tbody tr th:only-of-type {\n",
       "        vertical-align: middle;\n",
       "    }\n",
       "\n",
       "    .dataframe tbody tr th {\n",
       "        vertical-align: top;\n",
       "    }\n",
       "\n",
       "    .dataframe thead th {\n",
       "        text-align: right;\n",
       "    }\n",
       "</style>\n",
       "<table border=\"1\" class=\"dataframe\">\n",
       "  <thead>\n",
       "    <tr style=\"text-align: right;\">\n",
       "      <th></th>\n",
       "      <th>age</th>\n",
       "      <th>gender</th>\n",
       "      <th>income</th>\n",
       "      <th>credit_score</th>\n",
       "      <th>loan_status</th>\n",
       "    </tr>\n",
       "  </thead>\n",
       "  <tbody>\n",
       "    <tr>\n",
       "      <th>11</th>\n",
       "      <td>31</td>\n",
       "      <td>0</td>\n",
       "      <td>68000</td>\n",
       "      <td>690</td>\n",
       "      <td>0</td>\n",
       "    </tr>\n",
       "    <tr>\n",
       "      <th>33</th>\n",
       "      <td>47</td>\n",
       "      <td>0</td>\n",
       "      <td>140000</td>\n",
       "      <td>810</td>\n",
       "      <td>0</td>\n",
       "    </tr>\n",
       "    <tr>\n",
       "      <th>12</th>\n",
       "      <td>26</td>\n",
       "      <td>1</td>\n",
       "      <td>42000</td>\n",
       "      <td>610</td>\n",
       "      <td>1</td>\n",
       "    </tr>\n",
       "  </tbody>\n",
       "</table>\n",
       "</div>"
      ],
      "text/plain": [
       "    age  gender  income  credit_score  loan_status\n",
       "11   31       0   68000           690            0\n",
       "33   47       0  140000           810            0\n",
       "12   26       1   42000           610            1"
      ]
     },
     "execution_count": 32,
     "metadata": {},
     "output_type": "execute_result"
    }
   ],
   "source": [
    "df.sample(3)"
   ]
  },
  {
   "cell_type": "code",
   "execution_count": 33,
   "id": "9a4a2968-c3b4-46e5-ac23-530b162d6f1c",
   "metadata": {},
   "outputs": [
    {
     "name": "stdout",
     "output_type": "stream",
     "text": [
      "Loan Denied:\n",
      " You cannot get a loan:\n"
     ]
    }
   ],
   "source": [
    "### Test 1 In this test we have pass all the input variables to row value of the dataset to see how our model is predicting our output value :\n",
    "\n",
    "age = int(input(\"Enter the Age :\"))\n",
    "gender = float(input(\"Choose the Gender As \\n 1 for Male: \\n 0 for Female:\"))\n",
    "income = float(input(\"Enter the Income :\"))\n",
    "credit_score = float(input(\"Enter the Credit_Score :\"))\n",
    "\n",
    "result=predictive(age,gender,income,credit_score)\n",
    "if result==1:\n",
    "    print(\"Loan Denied:\\n You cannot get a loan:\")\n",
    "else:\n",
    "    print(\"Loan Approved:\\n Now you get a loan :\")"
   ]
  },
  {
   "cell_type": "markdown",
   "id": "ae6d3875-16a2-4821-bc1c-0d2e47b5a4b4",
   "metadata": {},
   "source": [
    "##### > So here we can see our model is predicting true value as a output so we can say our model is working good "
   ]
  },
  {
   "cell_type": "code",
   "execution_count": 34,
   "id": "463860ce-9988-4d4f-9f3f-30e21352c875",
   "metadata": {},
   "outputs": [
    {
     "data": {
      "text/html": [
       "<div>\n",
       "<style scoped>\n",
       "    .dataframe tbody tr th:only-of-type {\n",
       "        vertical-align: middle;\n",
       "    }\n",
       "\n",
       "    .dataframe tbody tr th {\n",
       "        vertical-align: top;\n",
       "    }\n",
       "\n",
       "    .dataframe thead th {\n",
       "        text-align: right;\n",
       "    }\n",
       "</style>\n",
       "<table border=\"1\" class=\"dataframe\">\n",
       "  <thead>\n",
       "    <tr style=\"text-align: right;\">\n",
       "      <th></th>\n",
       "      <th>age</th>\n",
       "      <th>gender</th>\n",
       "      <th>income</th>\n",
       "      <th>credit_score</th>\n",
       "      <th>loan_status</th>\n",
       "    </tr>\n",
       "  </thead>\n",
       "  <tbody>\n",
       "    <tr>\n",
       "      <th>10</th>\n",
       "      <td>55</td>\n",
       "      <td>1</td>\n",
       "      <td>110000</td>\n",
       "      <td>770</td>\n",
       "      <td>0</td>\n",
       "    </tr>\n",
       "    <tr>\n",
       "      <th>0</th>\n",
       "      <td>32</td>\n",
       "      <td>1</td>\n",
       "      <td>85000</td>\n",
       "      <td>720</td>\n",
       "      <td>0</td>\n",
       "    </tr>\n",
       "    <tr>\n",
       "      <th>57</th>\n",
       "      <td>25</td>\n",
       "      <td>0</td>\n",
       "      <td>32000</td>\n",
       "      <td>570</td>\n",
       "      <td>1</td>\n",
       "    </tr>\n",
       "  </tbody>\n",
       "</table>\n",
       "</div>"
      ],
      "text/plain": [
       "    age  gender  income  credit_score  loan_status\n",
       "10   55       1  110000           770            0\n",
       "0    32       1   85000           720            0\n",
       "57   25       0   32000           570            1"
      ]
     },
     "execution_count": 34,
     "metadata": {},
     "output_type": "execute_result"
    }
   ],
   "source": [
    " df.sample(3)"
   ]
  },
  {
   "cell_type": "code",
   "execution_count": 35,
   "id": "08f4c819-2652-4b95-81c4-940d5ed7864d",
   "metadata": {},
   "outputs": [
    {
     "name": "stdout",
     "output_type": "stream",
     "text": [
      "Loan Approved:\n",
      " Now you get a loan:\n"
     ]
    }
   ],
   "source": [
    "## Test 2 In this test we have pass all the input variables to 50 row value of the dataset to see how our model is predicting our output value :\n",
    "\n",
    "age = int(input(\"Enter the Age :\"))\n",
    "gender = float(input(\"Choose the Gender As \\n 1 for Male: \\n 0 for Female:\"))\n",
    "income = float(input(\"Enter the Income :\"))\n",
    "credit_score = float(input(\"Enter the Credit_Score :\"))\n",
    "\n",
    "result=predictive(age,gender,income,credit_score)\n",
    "if result==1:\n",
    "    print(\"Loan Denied:\\n You cannot get a loan :\")\n",
    "else:\n",
    "    print(\"Loan Approved:\\n Now you get a loan:\")"
   ]
  },
  {
   "cell_type": "markdown",
   "id": "69960485-c8e5-4e3d-85d9-bb552e39c871",
   "metadata": {},
   "source": [
    "##### > So here we can see our model is predicting true value as a output so we can say our model is working good "
   ]
  },
  {
   "cell_type": "markdown",
   "id": "c70752f4-db87-466b-b1c8-75f063df84a2",
   "metadata": {},
   "source": [
    "#### Uing Pickle Library To Save This Model"
   ]
  },
  {
   "cell_type": "code",
   "execution_count": 36,
   "id": "4e63086b-576e-45a6-99b0-14d1302290df",
   "metadata": {},
   "outputs": [],
   "source": [
    "import pickle \n",
    "pickle.dump(lg,open(\"Loan_Model.pkl\",\"wb\"))"
   ]
  },
  {
   "cell_type": "markdown",
   "id": "e9cc2f17-f6d8-4fb6-a3af-a417659ae66e",
   "metadata": {},
   "source": [
    "### Model Completion Succesfully"
   ]
  },
  {
   "cell_type": "markdown",
   "id": "52727a83-2a04-4e8a-8a13-5bd589ad2145",
   "metadata": {},
   "source": [
    " Model has been trained and saved successfully.\n",
    "\n",
    "---> The dataset has been cleaned and preprocessed.\n",
    "\n",
    "---> The dataset has been split into training and testing sets with a test size of 25%.\n",
    "\n",
    "---> Logistic Regression ,Random Forest ,Support Vector Classoifier ,K-Nearest Neighbors  ,Decision Tree  ,Naive Bayes have been evaluated using accuracy_score ,r2_score ,mean_absolute_error ,classification_report ,confusion_matrix.\n",
    "\n",
    "---> The model with the highest accuracy score is approximately **93%**\n",
    "\n",
    "---> The model can now be used to predict loan status based on the provided features.\n",
    "\n",
    "---> The model has been saved to a pickle file named \"Loan_Model.pkl\". \n",
    "\n",
    "--->This file can be used to load the trained model and make predictions on new data."
   ]
  },
  {
   "cell_type": "markdown",
   "id": "92a77c8d-2517-44a7-8127-99fd76d87215",
   "metadata": {},
   "source": [
    "> **Now Model Is Ready To Host**"
   ]
  },
  {
   "cell_type": "code",
   "execution_count": null,
   "id": "876347ab-75b1-4214-8663-4812f2193784",
   "metadata": {},
   "outputs": [],
   "source": []
  }
 ],
 "metadata": {
  "kernelspec": {
   "display_name": "Python 3",
   "language": "python",
   "name": "python3"
  },
  "language_info": {
   "codemirror_mode": {
    "name": "ipython",
    "version": 3
   },
   "file_extension": ".py",
   "mimetype": "text/x-python",
   "name": "python",
   "nbconvert_exporter": "python",
   "pygments_lexer": "ipython3",
   "version": "3.12.5"
  }
 },
 "nbformat": 4,
 "nbformat_minor": 5
}
